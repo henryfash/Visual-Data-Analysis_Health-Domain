{
 "cells": [
  {
   "cell_type": "code",
   "execution_count": null,
   "metadata": {},
   "outputs": [],
   "source": [
    "#3a Chapter 4 p86"
   ]
  },
  {
   "cell_type": "code",
   "execution_count": 13,
   "metadata": {},
   "outputs": [],
   "source": [
    "#3b\n",
    "\n",
    "import pandas as pd\n",
    "import numpy as np\n",
    "import matplotlib.pyplot as plt\n",
    "import seaborn as sns\n",
    "sns.set(style=\"darkgrid\")\n",
    "from sklearn.discriminant_analysis import LinearDiscriminantAnalysis\n",
    "from sklearn.decomposition import PCA"
   ]
  },
  {
   "cell_type": "code",
   "execution_count": 70,
   "metadata": {},
   "outputs": [
    {
     "data": {
      "text/html": [
       "<div>\n",
       "<style scoped>\n",
       "    .dataframe tbody tr th:only-of-type {\n",
       "        vertical-align: middle;\n",
       "    }\n",
       "\n",
       "    .dataframe tbody tr th {\n",
       "        vertical-align: top;\n",
       "    }\n",
       "\n",
       "    .dataframe thead th {\n",
       "        text-align: right;\n",
       "    }\n",
       "</style>\n",
       "<table border=\"1\" class=\"dataframe\">\n",
       "  <thead>\n",
       "    <tr style=\"text-align: right;\">\n",
       "      <th></th>\n",
       "      <th>x1</th>\n",
       "      <th>x2</th>\n",
       "      <th>x3</th>\n",
       "      <th>x4</th>\n",
       "      <th>x5</th>\n",
       "      <th>x6</th>\n",
       "      <th>x7</th>\n",
       "      <th>x8</th>\n",
       "      <th>x9</th>\n",
       "      <th>x10</th>\n",
       "      <th>class</th>\n",
       "    </tr>\n",
       "  </thead>\n",
       "  <tbody>\n",
       "    <tr>\n",
       "      <th>0</th>\n",
       "      <td>-0.270712</td>\n",
       "      <td>0.104848</td>\n",
       "      <td>0.250528</td>\n",
       "      <td>-0.925200</td>\n",
       "      <td>0.567144</td>\n",
       "      <td>-1.040180</td>\n",
       "      <td>-0.153676</td>\n",
       "      <td>0.789852</td>\n",
       "      <td>-1.226216</td>\n",
       "      <td>-0.948007</td>\n",
       "      <td>C1</td>\n",
       "    </tr>\n",
       "    <tr>\n",
       "      <th>1</th>\n",
       "      <td>-0.569654</td>\n",
       "      <td>-0.977150</td>\n",
       "      <td>-0.770632</td>\n",
       "      <td>-0.033711</td>\n",
       "      <td>-1.032859</td>\n",
       "      <td>1.142427</td>\n",
       "      <td>-0.609778</td>\n",
       "      <td>1.469416</td>\n",
       "      <td>1.492679</td>\n",
       "      <td>0.707125</td>\n",
       "      <td>C1</td>\n",
       "    </tr>\n",
       "    <tr>\n",
       "      <th>2</th>\n",
       "      <td>-1.858490</td>\n",
       "      <td>-1.370624</td>\n",
       "      <td>-0.330106</td>\n",
       "      <td>-1.515290</td>\n",
       "      <td>1.200060</td>\n",
       "      <td>-1.822619</td>\n",
       "      <td>0.269385</td>\n",
       "      <td>-0.446424</td>\n",
       "      <td>1.114314</td>\n",
       "      <td>-1.380803</td>\n",
       "      <td>C1</td>\n",
       "    </tr>\n",
       "    <tr>\n",
       "      <th>3</th>\n",
       "      <td>1.015425</td>\n",
       "      <td>0.224081</td>\n",
       "      <td>-0.644551</td>\n",
       "      <td>0.661532</td>\n",
       "      <td>1.292965</td>\n",
       "      <td>-0.895312</td>\n",
       "      <td>-0.568311</td>\n",
       "      <td>-2.111618</td>\n",
       "      <td>-0.818308</td>\n",
       "      <td>-0.962384</td>\n",
       "      <td>C1</td>\n",
       "    </tr>\n",
       "    <tr>\n",
       "      <th>4</th>\n",
       "      <td>5.124502</td>\n",
       "      <td>0.108509</td>\n",
       "      <td>-0.439301</td>\n",
       "      <td>-0.713560</td>\n",
       "      <td>0.934181</td>\n",
       "      <td>0.058656</td>\n",
       "      <td>1.609714</td>\n",
       "      <td>0.859907</td>\n",
       "      <td>-0.985203</td>\n",
       "      <td>-0.958368</td>\n",
       "      <td>C2</td>\n",
       "    </tr>\n",
       "  </tbody>\n",
       "</table>\n",
       "</div>"
      ],
      "text/plain": [
       "         x1        x2        x3        x4        x5        x6        x7  \\\n",
       "0 -0.270712  0.104848  0.250528 -0.925200  0.567144 -1.040180 -0.153676   \n",
       "1 -0.569654 -0.977150 -0.770632 -0.033711 -1.032859  1.142427 -0.609778   \n",
       "2 -1.858490 -1.370624 -0.330106 -1.515290  1.200060 -1.822619  0.269385   \n",
       "3  1.015425  0.224081 -0.644551  0.661532  1.292965 -0.895312 -0.568311   \n",
       "4  5.124502  0.108509 -0.439301 -0.713560  0.934181  0.058656  1.609714   \n",
       "\n",
       "         x8        x9       x10 class  \n",
       "0  0.789852 -1.226216 -0.948007    C1  \n",
       "1  1.469416  1.492679  0.707125    C1  \n",
       "2 -0.446424  1.114314 -1.380803    C1  \n",
       "3 -2.111618 -0.818308 -0.962384    C1  \n",
       "4  0.859907 -0.985203 -0.958368    C2  "
      ]
     },
     "execution_count": 70,
     "metadata": {},
     "output_type": "execute_result"
    }
   ],
   "source": [
    "dfLDA = pd.read_csv(\"LDA-input.csv\")\n",
    "dfLDA.head()"
   ]
  },
  {
   "cell_type": "code",
   "execution_count": 39,
   "metadata": {},
   "outputs": [
    {
     "data": {
      "text/plain": [
       "False"
      ]
     },
     "execution_count": 39,
     "metadata": {},
     "output_type": "execute_result"
    }
   ],
   "source": [
    "dfLDA.isnull().values.any()"
   ]
  },
  {
   "cell_type": "code",
   "execution_count": 71,
   "metadata": {},
   "outputs": [],
   "source": [
    "classes = dfLDA[\"class\"]"
   ]
  },
  {
   "cell_type": "code",
   "execution_count": 72,
   "metadata": {},
   "outputs": [],
   "source": [
    "X = dfLDA.drop(\"class\", axis=1)"
   ]
  },
  {
   "cell_type": "code",
   "execution_count": 74,
   "metadata": {},
   "outputs": [],
   "source": [
    "lda = LinearDiscriminantAnalysis(n_components=2, solver=\"eigen\")"
   ]
  },
  {
   "cell_type": "code",
   "execution_count": 75,
   "metadata": {},
   "outputs": [],
   "source": [
    "X_lda = lda.fit_transform(X, classes)"
   ]
  },
  {
   "cell_type": "code",
   "execution_count": 76,
   "metadata": {},
   "outputs": [
    {
     "data": {
      "image/png": "[encoded data removed]",
      "text/plain": [
       "<Figure size 432x288 with 1 Axes>"
      ]
     },
     "metadata": {},
     "output_type": "display_data"
    }
   ],
   "source": [
    "\n",
    "plt.xlabel(\"LD1\")\n",
    "plt.ylabel(\"LD2\")\n",
    "plt.scatter(X_lda[:,0],\n",
    "            X_lda[:,1], \n",
    "            c=dependentVariable,\n",
    "            cmap=\"rainbow\")\n",
    "plt.show()"
   ]
  },
  {
   "cell_type": "code",
   "execution_count": 77,
   "metadata": {},
   "outputs": [],
   "source": [
    "#3c\n",
    "lda = LinearDiscriminantAnalysis(n_components=2, solver=\"eigen\", shrinkage=\"auto\")"
   ]
  },
  {
   "cell_type": "code",
   "execution_count": 78,
   "metadata": {},
   "outputs": [],
   "source": [
    "X_lda = lda.fit_transform(X, classes)"
   ]
  },
  {
   "cell_type": "code",
   "execution_count": 79,
   "metadata": {},
   "outputs": [
    {
     "data": {
      "image/png": "[encoded data removed]",
      "text/plain": [
       "<Figure size 432x288 with 1 Axes>"
      ]
     },
     "metadata": {},
     "output_type": "display_data"
    }
   ],
   "source": [
    "\n",
    "plt.xlabel(\"LD1\")\n",
    "plt.ylabel(\"LD2\")\n",
    "plt.scatter(X_lda[:,0],\n",
    "            X_lda[:,1], \n",
    "            c=classes,\n",
    "            cmap=\"rainbow\")\n",
    "plt.show()"
   ]
  },
  {
   "cell_type": "code",
   "execution_count": 80,
   "metadata": {},
   "outputs": [],
   "source": [
    "# Do you prefer..\n",
    "# Yes"
   ]
  },
  {
   "cell_type": "code",
   "execution_count": null,
   "metadata": {},
   "outputs": [],
   "source": []
  }
 ],
 "metadata": {
  "kernelspec": {
   "display_name": "Python 3",
   "language": "python",
   "name": "python3"
  },
  "language_info": {
   "codemirror_mode": {
    "name": "ipython",
    "version": 3
   },
   "file_extension": ".py",
   "mimetype": "text/x-python",
   "name": "python",
   "nbconvert_exporter": "python",
   "pygments_lexer": "ipython3",
   "version": "3.7.3"
  }
 },
 "nbformat": 4,
 "nbformat_minor": 2
}
